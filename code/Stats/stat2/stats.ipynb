{
 "cells": [
  {
   "cell_type": "code",
   "execution_count": 49,
   "metadata": {},
   "outputs": [],
   "source": [
    "import numpy as np\n",
    "import pandas as pd\n",
    "import seaborn as sns\n",
    "import pickle\n",
    "import json\n",
    "from datetime import datetime,time,timedelta\n",
    "import matplotlib.pyplot as plt\n",
    "plt.style.use(\"ggplot\")"
   ]
  },
  {
   "cell_type": "markdown",
   "metadata": {},
   "source": [
    "We \n",
    " - read in the data\n",
    " - clean the data\n",
    " - display the head of the data frame"
   ]
  },
  {
   "cell_type": "code",
   "execution_count": 27,
   "metadata": {},
   "outputs": [
    {
     "data": {
      "text/html": [
       "<div>\n",
       "<style scoped>\n",
       "    .dataframe tbody tr th:only-of-type {\n",
       "        vertical-align: middle;\n",
       "    }\n",
       "\n",
       "    .dataframe tbody tr th {\n",
       "        vertical-align: top;\n",
       "    }\n",
       "\n",
       "    .dataframe thead th {\n",
       "        text-align: right;\n",
       "    }\n",
       "</style>\n",
       "<table border=\"1\" class=\"dataframe\">\n",
       "  <thead>\n",
       "    <tr style=\"text-align: right;\">\n",
       "      <th></th>\n",
       "      <th>time</th>\n",
       "      <th>open</th>\n",
       "      <th>high</th>\n",
       "      <th>low</th>\n",
       "      <th>close</th>\n",
       "      <th>Volume</th>\n",
       "      <th>day</th>\n",
       "      <th>range</th>\n",
       "    </tr>\n",
       "    <tr>\n",
       "      <th>date_time</th>\n",
       "      <th></th>\n",
       "      <th></th>\n",
       "      <th></th>\n",
       "      <th></th>\n",
       "      <th></th>\n",
       "      <th></th>\n",
       "      <th></th>\n",
       "      <th></th>\n",
       "    </tr>\n",
       "  </thead>\n",
       "  <tbody>\n",
       "    <tr>\n",
       "      <th>2016-05-23 10:00:00</th>\n",
       "      <td>1463961600</td>\n",
       "      <td>13.91</td>\n",
       "      <td>13.91</td>\n",
       "      <td>13.61</td>\n",
       "      <td>13.61</td>\n",
       "      <td>0.78673</td>\n",
       "      <td>0</td>\n",
       "      <td>0.30</td>\n",
       "    </tr>\n",
       "    <tr>\n",
       "      <th>2016-05-24 10:00:00</th>\n",
       "      <td>1464048000</td>\n",
       "      <td>13.68</td>\n",
       "      <td>13.74</td>\n",
       "      <td>12.00</td>\n",
       "      <td>12.77</td>\n",
       "      <td>2753.23998</td>\n",
       "      <td>1</td>\n",
       "      <td>1.74</td>\n",
       "    </tr>\n",
       "    <tr>\n",
       "      <th>2016-05-25 10:00:00</th>\n",
       "      <td>1464134400</td>\n",
       "      <td>13.00</td>\n",
       "      <td>13.18</td>\n",
       "      <td>11.93</td>\n",
       "      <td>12.61</td>\n",
       "      <td>9697.18313</td>\n",
       "      <td>2</td>\n",
       "      <td>1.25</td>\n",
       "    </tr>\n",
       "    <tr>\n",
       "      <th>2016-05-26 10:00:00</th>\n",
       "      <td>1464220800</td>\n",
       "      <td>12.61</td>\n",
       "      <td>12.95</td>\n",
       "      <td>12.15</td>\n",
       "      <td>12.47</td>\n",
       "      <td>2989.89229</td>\n",
       "      <td>3</td>\n",
       "      <td>0.80</td>\n",
       "    </tr>\n",
       "    <tr>\n",
       "      <th>2016-05-27 10:00:00</th>\n",
       "      <td>1464307200</td>\n",
       "      <td>12.47</td>\n",
       "      <td>12.47</td>\n",
       "      <td>10.25</td>\n",
       "      <td>10.98</td>\n",
       "      <td>19334.80484</td>\n",
       "      <td>4</td>\n",
       "      <td>2.22</td>\n",
       "    </tr>\n",
       "  </tbody>\n",
       "</table>\n",
       "</div>"
      ],
      "text/plain": [
       "                           time   open   high    low  close       Volume  day  \\\n",
       "date_time                                                                       \n",
       "2016-05-23 10:00:00  1463961600  13.91  13.91  13.61  13.61      0.78673    0   \n",
       "2016-05-24 10:00:00  1464048000  13.68  13.74  12.00  12.77   2753.23998    1   \n",
       "2016-05-25 10:00:00  1464134400  13.00  13.18  11.93  12.61   9697.18313    2   \n",
       "2016-05-26 10:00:00  1464220800  12.61  12.95  12.15  12.47   2989.89229    3   \n",
       "2016-05-27 10:00:00  1464307200  12.47  12.47  10.25  10.98  19334.80484    4   \n",
       "\n",
       "                     range  \n",
       "date_time                   \n",
       "2016-05-23 10:00:00   0.30  \n",
       "2016-05-24 10:00:00   1.74  \n",
       "2016-05-25 10:00:00   1.25  \n",
       "2016-05-26 10:00:00   0.80  \n",
       "2016-05-27 10:00:00   2.22  "
      ]
     },
     "execution_count": 27,
     "metadata": {},
     "output_type": "execute_result"
    }
   ],
   "source": [
    "df = pd.read_csv(\"ethusd.csv\")\n",
    "df.dropna(axis=1,inplace = True)\n",
    "df[\"date_time\"] = df['time'].apply(lambda x: datetime.fromtimestamp(x))\n",
    "df[\"day\"] = df[\"date_time\"].apply(lambda x: x.weekday())\n",
    "df.set_index('date_time',inplace=True)\n",
    "df[\"range\"] = df[\"high\"] - df[\"low\"]\n",
    "df.head()"
   ]
  },
  {
   "cell_type": "code",
   "execution_count": 4,
   "metadata": {},
   "outputs": [
    {
     "data": {
      "text/plain": [
       "count    1565.000000\n",
       "mean       21.331188\n",
       "std        34.627367\n",
       "min         0.100000\n",
       "25%         4.440000\n",
       "50%        11.080000\n",
       "75%        24.380000\n",
       "max       433.570000\n",
       "Name: range, dtype: float64"
      ]
     },
     "execution_count": 4,
     "metadata": {},
     "output_type": "execute_result"
    }
   ],
   "source": [
    "(df.describe())['range']"
   ]
  },
  {
   "cell_type": "code",
   "execution_count": 14,
   "metadata": {},
   "outputs": [
    {
     "data": {
      "image/png": "[encoded data removed]",
      "text/plain": [
       "<Figure size 1152x864 with 1 Axes>"
      ]
     },
     "metadata": {},
     "output_type": "display_data"
    }
   ],
   "source": [
    "plt.figure(figsize=(16,12))\n",
    "sns.distplot(df['range'])\n",
    "plt.title(\"Range distribution\")\n",
    "plt.savefig(\"../../../report/fig/range.png\",dpi=250)"
   ]
  },
  {
   "cell_type": "code",
   "execution_count": 24,
   "metadata": {},
   "outputs": [
    {
     "data": {
      "text/plain": [
       "count    1.565000e+03\n",
       "mean     1.333461e+05\n",
       "std      1.276997e+05\n",
       "min      7.867300e-01\n",
       "25%      5.343518e+04\n",
       "50%      9.512464e+04\n",
       "75%      1.669171e+05\n",
       "max      1.322283e+06\n",
       "Name: Volume, dtype: float64"
      ]
     },
     "execution_count": 24,
     "metadata": {},
     "output_type": "execute_result"
    },
    {
     "data": {
      "image/png": "[encoded data removed]",
      "text/plain": [
       "<Figure size 432x288 with 1 Axes>"
      ]
     },
     "metadata": {
      "needs_background": "light"
     },
     "output_type": "display_data"
    }
   ],
   "source": [
    "sns.distplot(df['Volume'])\n",
    "(df.describe())['Volume']"
   ]
  },
  {
   "cell_type": "code",
   "execution_count": 16,
   "metadata": {},
   "outputs": [
    {
     "data": {
      "image/png": "[encoded data removed]",
      "text/plain": [
       "<Figure size 1152x864 with 1 Axes>"
      ]
     },
     "metadata": {},
     "output_type": "display_data"
    }
   ],
   "source": [
    "plt.figure(figsize=(16,12))\n",
    "sns.distplot(df['Volume'])\n",
    "plt.title(\"Volume distribution\")\n",
    "plt.savefig(\"../../../report/fig/vol_dist.png\",dpi=250)"
   ]
  },
  {
   "cell_type": "markdown",
   "metadata": {},
   "source": [
    "The average daily range is 21.331188\n",
    "\n",
    "\n",
    "The average daily Volume is 1.333461e+05\n",
    "\n",
    "We will define volume below the 25th percentile to have low volume. Thus a day with volume below 5.343518e+04 is low."
   ]
  },
  {
   "cell_type": "code",
   "execution_count": 33,
   "metadata": {},
   "outputs": [
    {
     "data": {
      "image/png": "[encoded data removed]",
      "text/plain": [
       "<Figure size 1152x864 with 1 Axes>"
      ]
     },
     "metadata": {},
     "output_type": "display_data"
    }
   ],
   "source": [
    "\n",
    "plt.figure(figsize=(16,12))\n",
    "sns.boxplot(x='day',y=\"range\",data = df,showfliers=False)\n",
    "\n",
    "plt.title(\"range by day distribution\")\n",
    "plt.savefig(\"../../../report/fig/rday.png\",dpi=250)"
   ]
  },
  {
   "cell_type": "code",
   "execution_count": 38,
   "metadata": {},
   "outputs": [
    {
     "name": "stdout",
     "output_type": "stream",
     "text": [
      "           time        open        high         low       close  \\\n",
      "day                                                               \n",
      "0    1531396800  244.666652  254.059286  233.163839  244.640179   \n",
      "1    1531483200  244.642768  254.736205  231.990179  245.165446   \n",
      "2    1531569600  245.172812  255.199821  230.065089  243.928795   \n",
      "3    1531656000  243.915134  253.779531  231.644643  242.454085   \n",
      "4    1531440000  241.549215  251.391749  229.833072  243.245695   \n",
      "5    1531526400  243.247578  253.825830  236.150538  246.119417   \n",
      "6    1531612800  246.120852  254.312287  235.164081  245.684126   \n",
      "\n",
      "            Volume      range  \n",
      "day                            \n",
      "0    139691.779979  20.895446  \n",
      "1    145372.288791  22.746027  \n",
      "2    150107.028572  25.134732  \n",
      "3    151790.895260  22.134888  \n",
      "4    141879.322847  21.558677  \n",
      "5    100524.152772  17.675291  \n",
      "6    103816.814631  19.148206  \n"
     ]
    }
   ],
   "source": [
    "df_day = df.groupby(\"day\")\n",
    "print(df_day.mean())"
   ]
  },
  {
   "cell_type": "code",
   "execution_count": 39,
   "metadata": {},
   "outputs": [
    {
     "data": {
      "text/plain": [
       "18.4117485"
      ]
     },
     "execution_count": 39,
     "metadata": {},
     "output_type": "execute_result"
    }
   ],
   "source": [
    "(19.148206 + 17.675291)/2"
   ]
  },
  {
   "cell_type": "code",
   "execution_count": 42,
   "metadata": {},
   "outputs": [
    {
     "data": {
      "text/plain": [
       "datetime.time(1, 6, 15, 30557)"
      ]
     },
     "execution_count": 42,
     "metadata": {},
     "output_type": "execute_result"
    }
   ],
   "source": [
    "now = datetime.now()\n",
    "now.time()"
   ]
  },
  {
   "cell_type": "code",
   "execution_count": 47,
   "metadata": {},
   "outputs": [
    {
     "data": {
      "text/plain": [
       "True"
      ]
     },
     "execution_count": 47,
     "metadata": {},
     "output_type": "execute_result"
    }
   ],
   "source": [
    "time(0, 6, 15, 30557)< time(1, 7, 15, 30557)"
   ]
  },
  {
   "cell_type": "code",
   "execution_count": 48,
   "metadata": {},
   "outputs": [
    {
     "data": {
      "text/plain": [
       "'2020-09-04T01:06:15.030557'"
      ]
     },
     "execution_count": 48,
     "metadata": {},
     "output_type": "execute_result"
    }
   ],
   "source": [
    "now.isoformat()"
   ]
  },
  {
   "cell_type": "code",
   "execution_count": 51,
   "metadata": {},
   "outputs": [
    {
     "data": {
      "text/plain": [
       "'2020-09-04T00:06:15.030557'"
      ]
     },
     "execution_count": 51,
     "metadata": {},
     "output_type": "execute_result"
    }
   ],
   "source": [
    "(now - timedelta(hours = 1)).isoformat()"
   ]
  },
  {
   "cell_type": "code",
   "execution_count": 52,
   "metadata": {},
   "outputs": [
    {
     "data": {
      "text/plain": [
       "datetime.datetime(2020, 9, 4, 1, 6, 15, 30557)"
      ]
     },
     "execution_count": 52,
     "metadata": {},
     "output_type": "execute_result"
    }
   ],
   "source": [
    "now"
   ]
  },
  {
   "cell_type": "code",
   "execution_count": 53,
   "metadata": {},
   "outputs": [
    {
     "data": {
      "text/plain": [
       "'2020-09-04T01:06:15.030557'"
      ]
     },
     "execution_count": 53,
     "metadata": {},
     "output_type": "execute_result"
    }
   ],
   "source": [
    "datetime(2020, 9, 4, 1, 6, 15, 30557).isoformat()"
   ]
  },
  {
   "cell_type": "code",
   "execution_count": 54,
   "metadata": {},
   "outputs": [
    {
     "data": {
      "text/plain": [
       "'2020-09-04T00:06:15.030557'"
      ]
     },
     "execution_count": 54,
     "metadata": {},
     "output_type": "execute_result"
    }
   ],
   "source": [
    "(datetime(2020, 9, 4, 1, 6, 15, 30557) -timedelta(hours = 1)) .isoformat()"
   ]
  },
  {
   "cell_type": "code",
   "execution_count": 64,
   "metadata": {},
   "outputs": [
    {
     "name": "stdout",
     "output_type": "stream",
     "text": [
      "2020-08-04T00:36:15 2020-08-04T01:06:15\n"
     ]
    }
   ],
   "source": [
    "start = datetime(2017, 8, 4, 1, 6, 15)\n",
    "end = datetime(2020, 8, 4, 1, 6, 15)\n",
    "\n",
    "dt = end\n",
    "starts = []\n",
    "ends = []\n",
    "while dt > start:\n",
    "    starts.append((dt - timedelta(minutes = 30)).isoformat())\n",
    "    ends.append(dt.isoformat())\n",
    "    dt -= timedelta(minutes = 30)\n",
    "print(starts[0],ends[0])  "
   ]
  },
  {
   "cell_type": "code",
   "execution_count": 59,
   "metadata": {},
   "outputs": [
    {
     "data": {
      "text/plain": [
       "False"
      ]
     },
     "execution_count": 59,
     "metadata": {},
     "output_type": "execute_result"
    }
   ],
   "source": [
    "dt > start"
   ]
  },
  {
   "cell_type": "code",
   "execution_count": 60,
   "metadata": {},
   "outputs": [
    {
     "data": {
      "text/plain": [
       "datetime.datetime(2017, 8, 4, 1, 6, 15)"
      ]
     },
     "execution_count": 60,
     "metadata": {},
     "output_type": "execute_result"
    }
   ],
   "source": [
    "dt"
   ]
  },
  {
   "cell_type": "code",
   "execution_count": 1,
   "metadata": {},
   "outputs": [],
   "source": [
    "# https://api.pro.coinbase.com/products/ETH-USD/candles?start=2020-08-04T00:06:15&end=2020-08-04T01:06:15&granularity=60"
   ]
  },
  {
   "cell_type": "code",
   "execution_count": 8,
   "metadata": {},
   "outputs": [
    {
     "data": {
      "text/plain": [
       "[[1596485280, 394.22, 394.84, 394.24, 394.84, 36.8941496],\n",
       " [1596485280, 394.22, 394.84, 394.24, 394.84, 36.8941496],\n",
       " [1596485280, 394.22, 394.84, 394.24, 394.84, 36.8941496],\n",
       " [1596485280, 394.22, 394.84, 394.24, 394.84, 36.8941496]]"
      ]
     },
     "execution_count": 8,
     "metadata": {},
     "output_type": "execute_result"
    }
   ],
   "source": [
    "a = [[1596485280, 394.22, 394.84, 394.24, 394.84, 36.8941496],\n",
    " [1596485280, 394.22, 394.84, 394.24, 394.84, 36.8941496]] \n",
    "\n",
    "\n",
    "a += [[1596485280, 394.22, 394.84, 394.24, 394.84, 36.8941496],[1596485280, 394.22, 394.84, 394.24, 394.84, 36.8941496]]\n",
    "a"
   ]
  },
  {
   "cell_type": "code",
   "execution_count": null,
   "metadata": {},
   "outputs": [],
   "source": []
  }
 ],
 "metadata": {
  "kernelspec": {
   "display_name": "Python 3",
   "language": "python",
   "name": "python3"
  },
  "language_info": {
   "codemirror_mode": {
    "name": "ipython",
    "version": 3
   },
   "file_extension": ".py",
   "mimetype": "text/x-python",
   "name": "python",
   "nbconvert_exporter": "python",
   "pygments_lexer": "ipython3",
   "version": "3.7.3"
  }
 },
 "nbformat": 4,
 "nbformat_minor": 4
}
