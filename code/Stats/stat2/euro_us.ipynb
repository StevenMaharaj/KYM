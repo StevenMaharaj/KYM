{
 "cells": [
  {
   "cell_type": "code",
   "execution_count": 2,
   "metadata": {},
   "outputs": [],
   "source": [
    "\n",
    "import pandas as pd\n",
    "import seaborn as sns\n",
    "import pickle\n",
    "import json\n",
    "from datetime import datetime,time,timedelta\n",
    "import matplotlib.pyplot as plt\n",
    "plt.style.use(\"ggplot\")\n",
    "from pprint import pprint\n",
    "df = pd.read_hdf(\"store.h5\")\n",
    "\n",
    "df[\"time_of_day\"] = df['time'].apply(lambda x: datetime.fromtimestamp(x).time())\n",
    "df[\"day_of_month\"] = df['time'].apply(lambda x: int((datetime.fromtimestamp(x)).strftime(\"%d\")))\n",
    "df[\"date\"] = df['time'].apply(lambda x: (datetime.fromtimestamp(x)).strftime(\"%Y-%m-%d\"))\n",
    "# df[\"day_of_month\"].astype(int,inplace = True)\n",
    "df[\"range\"] = df[\"high\"] - df[\"low\"]\n",
    "\n",
    "exchange_times = {\n",
    "    'asia': [time(),time(hour = 6)],\n",
    "    'usa': [time(hour=13,minute=30),time(hour = 20)],\n",
    "    'euro': [time(hour=8),time(hour=16,minute=30)],\n",
    "    \n",
    "}\n",
    "\n",
    "df['is_asia'] = (exchange_times[\"asia\"][0] <= df['time_of_day']) & (df['time_of_day'] <= exchange_times[\"asia\"][1])\n",
    "df['is_usa'] = (exchange_times[\"usa\"][0] <= df['time_of_day']) & (df['time_of_day'] <= exchange_times[\"usa\"][1])\n",
    "df['is_euro'] = (exchange_times[\"euro\"][0] <= df['time_of_day']) & (df['time_of_day'] <= exchange_times[\"euro\"][1])"
   ]
  },
  {
   "cell_type": "code",
   "execution_count": 3,
   "metadata": {},
   "outputs": [
    {
     "data": {
      "text/html": [
       "<div>\n",
       "<style scoped>\n",
       "    .dataframe tbody tr th:only-of-type {\n",
       "        vertical-align: middle;\n",
       "    }\n",
       "\n",
       "    .dataframe tbody tr th {\n",
       "        vertical-align: top;\n",
       "    }\n",
       "\n",
       "    .dataframe thead th {\n",
       "        text-align: right;\n",
       "    }\n",
       "</style>\n",
       "<table border=\"1\" class=\"dataframe\">\n",
       "  <thead>\n",
       "    <tr style=\"text-align: right;\">\n",
       "      <th></th>\n",
       "      <th>time</th>\n",
       "      <th>low</th>\n",
       "      <th>high</th>\n",
       "      <th>open</th>\n",
       "      <th>close</th>\n",
       "      <th>volume</th>\n",
       "      <th>day</th>\n",
       "      <th>time_of_day</th>\n",
       "      <th>day_of_month</th>\n",
       "      <th>date</th>\n",
       "      <th>range</th>\n",
       "      <th>is_asia</th>\n",
       "      <th>is_usa</th>\n",
       "      <th>is_euro</th>\n",
       "    </tr>\n",
       "    <tr>\n",
       "      <th>date_time</th>\n",
       "      <th></th>\n",
       "      <th></th>\n",
       "      <th></th>\n",
       "      <th></th>\n",
       "      <th></th>\n",
       "      <th></th>\n",
       "      <th></th>\n",
       "      <th></th>\n",
       "      <th></th>\n",
       "      <th></th>\n",
       "      <th></th>\n",
       "      <th></th>\n",
       "      <th></th>\n",
       "      <th></th>\n",
       "    </tr>\n",
       "  </thead>\n",
       "  <tbody>\n",
       "    <tr>\n",
       "      <th>2017-07-31 12:00:00</th>\n",
       "      <td>1501466400</td>\n",
       "      <td>194.00</td>\n",
       "      <td>196.00</td>\n",
       "      <td>194.33</td>\n",
       "      <td>195.28</td>\n",
       "      <td>2841.638143</td>\n",
       "      <td>0</td>\n",
       "      <td>12:00:00</td>\n",
       "      <td>31</td>\n",
       "      <td>2017-07-31</td>\n",
       "      <td>2.00</td>\n",
       "      <td>False</td>\n",
       "      <td>False</td>\n",
       "      <td>True</td>\n",
       "    </tr>\n",
       "    <tr>\n",
       "      <th>2017-07-31 13:00:00</th>\n",
       "      <td>1501470000</td>\n",
       "      <td>194.92</td>\n",
       "      <td>196.49</td>\n",
       "      <td>195.29</td>\n",
       "      <td>195.40</td>\n",
       "      <td>2157.584857</td>\n",
       "      <td>0</td>\n",
       "      <td>13:00:00</td>\n",
       "      <td>31</td>\n",
       "      <td>2017-07-31</td>\n",
       "      <td>1.57</td>\n",
       "      <td>False</td>\n",
       "      <td>False</td>\n",
       "      <td>True</td>\n",
       "    </tr>\n",
       "    <tr>\n",
       "      <th>2017-07-31 14:00:00</th>\n",
       "      <td>1501473600</td>\n",
       "      <td>195.00</td>\n",
       "      <td>195.97</td>\n",
       "      <td>195.39</td>\n",
       "      <td>195.77</td>\n",
       "      <td>1311.341183</td>\n",
       "      <td>0</td>\n",
       "      <td>14:00:00</td>\n",
       "      <td>31</td>\n",
       "      <td>2017-07-31</td>\n",
       "      <td>0.97</td>\n",
       "      <td>False</td>\n",
       "      <td>True</td>\n",
       "      <td>True</td>\n",
       "    </tr>\n",
       "    <tr>\n",
       "      <th>2017-07-31 15:00:00</th>\n",
       "      <td>1501477200</td>\n",
       "      <td>195.00</td>\n",
       "      <td>195.90</td>\n",
       "      <td>195.77</td>\n",
       "      <td>195.41</td>\n",
       "      <td>1739.863734</td>\n",
       "      <td>0</td>\n",
       "      <td>15:00:00</td>\n",
       "      <td>31</td>\n",
       "      <td>2017-07-31</td>\n",
       "      <td>0.90</td>\n",
       "      <td>False</td>\n",
       "      <td>True</td>\n",
       "      <td>True</td>\n",
       "    </tr>\n",
       "    <tr>\n",
       "      <th>2017-07-31 16:00:00</th>\n",
       "      <td>1501480800</td>\n",
       "      <td>195.06</td>\n",
       "      <td>197.50</td>\n",
       "      <td>195.43</td>\n",
       "      <td>197.34</td>\n",
       "      <td>2879.591574</td>\n",
       "      <td>0</td>\n",
       "      <td>16:00:00</td>\n",
       "      <td>31</td>\n",
       "      <td>2017-07-31</td>\n",
       "      <td>2.44</td>\n",
       "      <td>False</td>\n",
       "      <td>True</td>\n",
       "      <td>True</td>\n",
       "    </tr>\n",
       "  </tbody>\n",
       "</table>\n",
       "</div>"
      ],
      "text/plain": [
       "                           time     low    high    open   close       volume  \\\n",
       "date_time                                                                      \n",
       "2017-07-31 12:00:00  1501466400  194.00  196.00  194.33  195.28  2841.638143   \n",
       "2017-07-31 13:00:00  1501470000  194.92  196.49  195.29  195.40  2157.584857   \n",
       "2017-07-31 14:00:00  1501473600  195.00  195.97  195.39  195.77  1311.341183   \n",
       "2017-07-31 15:00:00  1501477200  195.00  195.90  195.77  195.41  1739.863734   \n",
       "2017-07-31 16:00:00  1501480800  195.06  197.50  195.43  197.34  2879.591574   \n",
       "\n",
       "                     day time_of_day  day_of_month        date  range  \\\n",
       "date_time                                                               \n",
       "2017-07-31 12:00:00    0    12:00:00            31  2017-07-31   2.00   \n",
       "2017-07-31 13:00:00    0    13:00:00            31  2017-07-31   1.57   \n",
       "2017-07-31 14:00:00    0    14:00:00            31  2017-07-31   0.97   \n",
       "2017-07-31 15:00:00    0    15:00:00            31  2017-07-31   0.90   \n",
       "2017-07-31 16:00:00    0    16:00:00            31  2017-07-31   2.44   \n",
       "\n",
       "                     is_asia  is_usa  is_euro  \n",
       "date_time                                      \n",
       "2017-07-31 12:00:00    False   False     True  \n",
       "2017-07-31 13:00:00    False   False     True  \n",
       "2017-07-31 14:00:00    False    True     True  \n",
       "2017-07-31 15:00:00    False    True     True  \n",
       "2017-07-31 16:00:00    False    True     True  "
      ]
     },
     "execution_count": 3,
     "metadata": {},
     "output_type": "execute_result"
    }
   ],
   "source": [
    "df.head()"
   ]
  },
  {
   "cell_type": "code",
   "execution_count": 17,
   "metadata": {},
   "outputs": [],
   "source": [
    "from statsmodels.tsa.stattools import adfuller\n",
    "import numpy as np"
   ]
  },
  {
   "cell_type": "code",
   "execution_count": 7,
   "metadata": {},
   "outputs": [],
   "source": [
    "EURO = df[df[\"is_euro\"] == True]\n",
    "dates = df.groupby(\"date\").mean().index\n",
    "dates\n",
    "list_by_date_euro = []\n",
    "for i in range(len(dates)):\n",
    "    list_by_date_euro.append(EURO[EURO[\"date\"] == dates[i]])\n"
   ]
  },
  {
   "cell_type": "code",
   "execution_count": 15,
   "metadata": {},
   "outputs": [
    {
     "data": {
      "text/plain": [
       "<matplotlib.axes._subplots.AxesSubplot at 0x7f1570674110>"
      ]
     },
     "execution_count": 15,
     "metadata": {},
     "output_type": "execute_result"
    },
    {
     "data": {
      "image/png": "[encoded data removed]",
      "text/plain": [
       "<Figure size 432x288 with 1 Axes>"
      ]
     },
     "metadata": {},
     "output_type": "display_data"
    }
   ],
   "source": [
    "list_by_date_euro[1][\"close\"].plot()"
   ]
  },
  {
   "cell_type": "code",
   "execution_count": 32,
   "metadata": {},
   "outputs": [],
   "source": [
    "m_euro = np.zeros(len(list_by_date_euro))\n",
    "for i in range(len(list_by_date_euro)):\n",
    "    X = np.array(range(len(list_by_date_euro[i][\"close\"])))\n",
    "    X_bar = X.mean()\n",
    "    X_bar\n",
    "    Y = list_by_date_euro[i][\"close\"].values\n",
    "    Y_bar = Y.mean()\n",
    "    m_euro[i] = np.sum((X - X_bar)* (Y - Y_bar))/np.sum((X - X_bar)**2)\n"
   ]
  },
  {
   "cell_type": "code",
   "execution_count": 42,
   "metadata": {},
   "outputs": [
    {
     "data": {
      "image/png": "[encoded data removed]",
      "text/plain": [
       "<Figure size 1152x576 with 1 Axes>"
      ]
     },
     "metadata": {},
     "output_type": "display_data"
    }
   ],
   "source": [
    "plt.figure(figsize=(16,8))\n",
    "plt.hist(m_euro,bins = 200)\n",
    "plt.title(\"Gradient distribution of Euro session\")\n",
    "plt.savefig(\"../../../report/fig/grad_euro.png\",dpi=250)\n",
    "plt.show()"
   ]
  },
  {
   "cell_type": "code",
   "execution_count": 38,
   "metadata": {},
   "outputs": [
    {
     "name": "stderr",
     "output_type": "stream",
     "text": [
      "/home/steve/anaconda3/lib/python3.7/site-packages/ipykernel_launcher.py:10: RuntimeWarning: Mean of empty slice.\n",
      "  # Remove the CWD from sys.path while we load stuff.\n",
      "/home/steve/anaconda3/lib/python3.7/site-packages/numpy/core/_methods.py:85: RuntimeWarning: invalid value encountered in double_scalars\n",
      "  ret = ret.dtype.type(ret / rcount)\n",
      "/home/steve/anaconda3/lib/python3.7/site-packages/ipykernel_launcher.py:13: RuntimeWarning: Mean of empty slice.\n",
      "  del sys.path[0]\n",
      "/home/steve/anaconda3/lib/python3.7/site-packages/ipykernel_launcher.py:14: RuntimeWarning: invalid value encountered in double_scalars\n",
      "  \n"
     ]
    }
   ],
   "source": [
    "USA = df[df[\"is_usa\"] == True]\n",
    "dates = df.groupby(\"date\").mean().index\n",
    "dates\n",
    "list_by_date_usa = []\n",
    "for i in range(len(dates)):\n",
    "    list_by_date_usa.append(USA[USA[\"date\"] == dates[i]])\n",
    "m_usa = np.zeros(len(list_by_date_usa))\n",
    "for i in range(len(list_by_date_usa)):\n",
    "    X = np.array(range(len(list_by_date_usa[i][\"close\"])))\n",
    "    X_bar = X.mean()\n",
    "    X_bar\n",
    "    Y = list_by_date_usa[i][\"close\"].values\n",
    "    Y_bar = Y.mean()\n",
    "    m_usa[i] = np.sum((X - X_bar)* (Y - Y_bar))/np.sum((X - X_bar)**2)"
   ]
  },
  {
   "cell_type": "code",
   "execution_count": 41,
   "metadata": {},
   "outputs": [
    {
     "data": {
      "image/png": "[encoded data removed]",
      "text/plain": [
       "<Figure size 1152x576 with 1 Axes>"
      ]
     },
     "metadata": {},
     "output_type": "display_data"
    }
   ],
   "source": [
    "plt.figure(figsize=(16,8))\n",
    "plt.hist(m_usa,bins = 200)\n",
    "plt.title(\"Gradient distribution of USA session\")\n",
    "plt.savefig(\"../../../report/fig/grad_usa.png\",dpi=250)\n",
    "plt.show()"
   ]
  },
  {
   "cell_type": "code",
   "execution_count": null,
   "metadata": {},
   "outputs": [],
   "source": []
  }
 ],
 "metadata": {
  "kernelspec": {
   "display_name": "Python 3",
   "language": "python",
   "name": "python3"
  },
  "language_info": {
   "codemirror_mode": {
    "name": "ipython",
    "version": 3
   },
   "file_extension": ".py",
   "mimetype": "text/x-python",
   "name": "python",
   "nbconvert_exporter": "python",
   "pygments_lexer": "ipython3",
   "version": "3.7.9"
  }
 },
 "nbformat": 4,
 "nbformat_minor": 2
}
