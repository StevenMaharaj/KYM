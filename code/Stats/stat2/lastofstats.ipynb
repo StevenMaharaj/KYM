{
 "cells": [
  {
   "cell_type": "code",
   "execution_count": 1,
   "metadata": {},
   "outputs": [],
   "source": [
    "import numpy as np\n",
    "import pandas as pd\n",
    "import seaborn as sns\n",
    "import pickle\n",
    "import json\n",
    "from datetime import datetime,time,timedelta\n",
    "import matplotlib.pyplot as plt\n",
    "plt.style.use(\"ggplot\")\n",
    "from pprint import pprint"
   ]
  },
  {
   "cell_type": "code",
   "execution_count": 56,
   "metadata": {},
   "outputs": [],
   "source": [
    "df = pd.read_hdf(\"store.h5\")\n",
    "\n",
    "df[\"time_of_day\"] = df['time'].apply(lambda x: datetime.fromtimestamp(x).time())\n",
    "df[\"day_of_month\"] = df['time'].apply(lambda x: int((datetime.fromtimestamp(x)).strftime(\"%d\")))\n",
    "df[\"date\"] = df['time'].apply(lambda x: (datetime.fromtimestamp(x)).strftime(\"%Y-%m-%d\"))\n",
    "df['returns'] = df[\"close\"] - df[\"close\"].shift(1)\n",
    "df['abs_ret'] = abs(df['returns'])\n",
    "# df[\"day_of_month\"].astype(int,inplace = True)\n",
    "df[\"range\"] = df[\"high\"] - df[\"low\"]"
   ]
  },
  {
   "cell_type": "code",
   "execution_count": 57,
   "metadata": {},
   "outputs": [
    {
     "data": {
      "text/html": [
       "<div>\n",
       "<style scoped>\n",
       "    .dataframe tbody tr th:only-of-type {\n",
       "        vertical-align: middle;\n",
       "    }\n",
       "\n",
       "    .dataframe tbody tr th {\n",
       "        vertical-align: top;\n",
       "    }\n",
       "\n",
       "    .dataframe thead th {\n",
       "        text-align: right;\n",
       "    }\n",
       "</style>\n",
       "<table border=\"1\" class=\"dataframe\">\n",
       "  <thead>\n",
       "    <tr style=\"text-align: right;\">\n",
       "      <th></th>\n",
       "      <th>time</th>\n",
       "      <th>low</th>\n",
       "      <th>high</th>\n",
       "      <th>open</th>\n",
       "      <th>close</th>\n",
       "      <th>volume</th>\n",
       "      <th>day</th>\n",
       "      <th>time_of_day</th>\n",
       "      <th>day_of_month</th>\n",
       "      <th>date</th>\n",
       "      <th>returns</th>\n",
       "      <th>abs_ret</th>\n",
       "      <th>range</th>\n",
       "    </tr>\n",
       "    <tr>\n",
       "      <th>date_time</th>\n",
       "      <th></th>\n",
       "      <th></th>\n",
       "      <th></th>\n",
       "      <th></th>\n",
       "      <th></th>\n",
       "      <th></th>\n",
       "      <th></th>\n",
       "      <th></th>\n",
       "      <th></th>\n",
       "      <th></th>\n",
       "      <th></th>\n",
       "      <th></th>\n",
       "      <th></th>\n",
       "    </tr>\n",
       "  </thead>\n",
       "  <tbody>\n",
       "    <tr>\n",
       "      <th>2017-07-31 12:00:00</th>\n",
       "      <td>1501466400</td>\n",
       "      <td>194.00</td>\n",
       "      <td>196.00</td>\n",
       "      <td>194.33</td>\n",
       "      <td>195.28</td>\n",
       "      <td>2841.638143</td>\n",
       "      <td>0</td>\n",
       "      <td>12:00:00</td>\n",
       "      <td>31</td>\n",
       "      <td>2017-07-31</td>\n",
       "      <td>NaN</td>\n",
       "      <td>NaN</td>\n",
       "      <td>2.00</td>\n",
       "    </tr>\n",
       "    <tr>\n",
       "      <th>2017-07-31 13:00:00</th>\n",
       "      <td>1501470000</td>\n",
       "      <td>194.92</td>\n",
       "      <td>196.49</td>\n",
       "      <td>195.29</td>\n",
       "      <td>195.40</td>\n",
       "      <td>2157.584857</td>\n",
       "      <td>0</td>\n",
       "      <td>13:00:00</td>\n",
       "      <td>31</td>\n",
       "      <td>2017-07-31</td>\n",
       "      <td>0.12</td>\n",
       "      <td>0.12</td>\n",
       "      <td>1.57</td>\n",
       "    </tr>\n",
       "    <tr>\n",
       "      <th>2017-07-31 14:00:00</th>\n",
       "      <td>1501473600</td>\n",
       "      <td>195.00</td>\n",
       "      <td>195.97</td>\n",
       "      <td>195.39</td>\n",
       "      <td>195.77</td>\n",
       "      <td>1311.341183</td>\n",
       "      <td>0</td>\n",
       "      <td>14:00:00</td>\n",
       "      <td>31</td>\n",
       "      <td>2017-07-31</td>\n",
       "      <td>0.37</td>\n",
       "      <td>0.37</td>\n",
       "      <td>0.97</td>\n",
       "    </tr>\n",
       "    <tr>\n",
       "      <th>2017-07-31 15:00:00</th>\n",
       "      <td>1501477200</td>\n",
       "      <td>195.00</td>\n",
       "      <td>195.90</td>\n",
       "      <td>195.77</td>\n",
       "      <td>195.41</td>\n",
       "      <td>1739.863734</td>\n",
       "      <td>0</td>\n",
       "      <td>15:00:00</td>\n",
       "      <td>31</td>\n",
       "      <td>2017-07-31</td>\n",
       "      <td>-0.36</td>\n",
       "      <td>0.36</td>\n",
       "      <td>0.90</td>\n",
       "    </tr>\n",
       "    <tr>\n",
       "      <th>2017-07-31 16:00:00</th>\n",
       "      <td>1501480800</td>\n",
       "      <td>195.06</td>\n",
       "      <td>197.50</td>\n",
       "      <td>195.43</td>\n",
       "      <td>197.34</td>\n",
       "      <td>2879.591574</td>\n",
       "      <td>0</td>\n",
       "      <td>16:00:00</td>\n",
       "      <td>31</td>\n",
       "      <td>2017-07-31</td>\n",
       "      <td>1.93</td>\n",
       "      <td>1.93</td>\n",
       "      <td>2.44</td>\n",
       "    </tr>\n",
       "  </tbody>\n",
       "</table>\n",
       "</div>"
      ],
      "text/plain": [
       "                           time     low    high    open   close       volume  \\\n",
       "date_time                                                                      \n",
       "2017-07-31 12:00:00  1501466400  194.00  196.00  194.33  195.28  2841.638143   \n",
       "2017-07-31 13:00:00  1501470000  194.92  196.49  195.29  195.40  2157.584857   \n",
       "2017-07-31 14:00:00  1501473600  195.00  195.97  195.39  195.77  1311.341183   \n",
       "2017-07-31 15:00:00  1501477200  195.00  195.90  195.77  195.41  1739.863734   \n",
       "2017-07-31 16:00:00  1501480800  195.06  197.50  195.43  197.34  2879.591574   \n",
       "\n",
       "                     day time_of_day  day_of_month        date  returns  \\\n",
       "date_time                                                                 \n",
       "2017-07-31 12:00:00    0    12:00:00            31  2017-07-31      NaN   \n",
       "2017-07-31 13:00:00    0    13:00:00            31  2017-07-31     0.12   \n",
       "2017-07-31 14:00:00    0    14:00:00            31  2017-07-31     0.37   \n",
       "2017-07-31 15:00:00    0    15:00:00            31  2017-07-31    -0.36   \n",
       "2017-07-31 16:00:00    0    16:00:00            31  2017-07-31     1.93   \n",
       "\n",
       "                     abs_ret  range  \n",
       "date_time                            \n",
       "2017-07-31 12:00:00      NaN   2.00  \n",
       "2017-07-31 13:00:00     0.12   1.57  \n",
       "2017-07-31 14:00:00     0.37   0.97  \n",
       "2017-07-31 15:00:00     0.36   0.90  \n",
       "2017-07-31 16:00:00     1.93   2.44  "
      ]
     },
     "execution_count": 57,
     "metadata": {},
     "output_type": "execute_result"
    }
   ],
   "source": [
    "df.head()"
   ]
  },
  {
   "cell_type": "code",
   "execution_count": 6,
   "metadata": {},
   "outputs": [
    {
     "data": {
      "text/plain": [
       "<matplotlib.axes._subplots.AxesSubplot at 0x7fa41b2d7950>"
      ]
     },
     "execution_count": 6,
     "metadata": {},
     "output_type": "execute_result"
    },
    {
     "data": {
      "image/png": "[encoded data removed]",
      "text/plain": [
       "<Figure size 432x288 with 1 Axes>"
      ]
     },
     "metadata": {
      "needs_background": "light"
     },
     "output_type": "display_data"
    }
   ],
   "source": [
    "df['close'].pct_change().hist(bins=500)"
   ]
  },
  {
   "cell_type": "code",
   "execution_count": 13,
   "metadata": {},
   "outputs": [
    {
     "data": {
      "text/html": [
       "<div>\n",
       "<style scoped>\n",
       "    .dataframe tbody tr th:only-of-type {\n",
       "        vertical-align: middle;\n",
       "    }\n",
       "\n",
       "    .dataframe tbody tr th {\n",
       "        vertical-align: top;\n",
       "    }\n",
       "\n",
       "    .dataframe thead th {\n",
       "        text-align: right;\n",
       "    }\n",
       "</style>\n",
       "<table border=\"1\" class=\"dataframe\">\n",
       "  <thead>\n",
       "    <tr style=\"text-align: right;\">\n",
       "      <th></th>\n",
       "      <th>time</th>\n",
       "      <th>low</th>\n",
       "      <th>high</th>\n",
       "      <th>open</th>\n",
       "      <th>close</th>\n",
       "      <th>volume</th>\n",
       "      <th>day</th>\n",
       "      <th>day_of_month</th>\n",
       "      <th>returns</th>\n",
       "      <th>abs_ret</th>\n",
       "      <th>range</th>\n",
       "      <th>retp</th>\n",
       "      <th>retp_a</th>\n",
       "    </tr>\n",
       "    <tr>\n",
       "      <th>date</th>\n",
       "      <th></th>\n",
       "      <th></th>\n",
       "      <th></th>\n",
       "      <th></th>\n",
       "      <th></th>\n",
       "      <th></th>\n",
       "      <th></th>\n",
       "      <th></th>\n",
       "      <th></th>\n",
       "      <th></th>\n",
       "      <th></th>\n",
       "      <th></th>\n",
       "      <th></th>\n",
       "    </tr>\n",
       "  </thead>\n",
       "  <tbody>\n",
       "    <tr>\n",
       "      <th>2017-07-31</th>\n",
       "      <td>1.501486e+09</td>\n",
       "      <td>193.695833</td>\n",
       "      <td>195.868333</td>\n",
       "      <td>194.555000</td>\n",
       "      <td>194.580833</td>\n",
       "      <td>3335.321224</td>\n",
       "      <td>0.0</td>\n",
       "      <td>31.0</td>\n",
       "      <td>-0.065455</td>\n",
       "      <td>1.192727</td>\n",
       "      <td>2.172500</td>\n",
       "      <td>NaN</td>\n",
       "      <td>NaN</td>\n",
       "    </tr>\n",
       "    <tr>\n",
       "      <th>2017-08-01</th>\n",
       "      <td>1.501551e+09</td>\n",
       "      <td>204.393750</td>\n",
       "      <td>209.042083</td>\n",
       "      <td>206.008333</td>\n",
       "      <td>206.938750</td>\n",
       "      <td>14944.681598</td>\n",
       "      <td>1.0</td>\n",
       "      <td>1.0</td>\n",
       "      <td>0.963333</td>\n",
       "      <td>2.353333</td>\n",
       "      <td>4.648333</td>\n",
       "      <td>0.063510</td>\n",
       "      <td>0.063510</td>\n",
       "    </tr>\n",
       "    <tr>\n",
       "      <th>2017-08-02</th>\n",
       "      <td>1.501637e+09</td>\n",
       "      <td>221.077917</td>\n",
       "      <td>225.050417</td>\n",
       "      <td>223.161250</td>\n",
       "      <td>223.126667</td>\n",
       "      <td>9510.176772</td>\n",
       "      <td>2.0</td>\n",
       "      <td>2.0</td>\n",
       "      <td>0.013333</td>\n",
       "      <td>1.783333</td>\n",
       "      <td>3.972500</td>\n",
       "      <td>0.078226</td>\n",
       "      <td>0.078226</td>\n",
       "    </tr>\n",
       "    <tr>\n",
       "      <th>2017-08-03</th>\n",
       "      <td>1.501724e+09</td>\n",
       "      <td>219.288333</td>\n",
       "      <td>221.447917</td>\n",
       "      <td>220.238333</td>\n",
       "      <td>220.490000</td>\n",
       "      <td>5706.392778</td>\n",
       "      <td>3.0</td>\n",
       "      <td>3.0</td>\n",
       "      <td>0.244167</td>\n",
       "      <td>1.113333</td>\n",
       "      <td>2.159583</td>\n",
       "      <td>-0.011817</td>\n",
       "      <td>0.011817</td>\n",
       "    </tr>\n",
       "    <tr>\n",
       "      <th>2017-08-04</th>\n",
       "      <td>1.501810e+09</td>\n",
       "      <td>222.810417</td>\n",
       "      <td>224.510000</td>\n",
       "      <td>223.856250</td>\n",
       "      <td>223.817083</td>\n",
       "      <td>4445.109779</td>\n",
       "      <td>4.0</td>\n",
       "      <td>4.0</td>\n",
       "      <td>-0.038750</td>\n",
       "      <td>0.700417</td>\n",
       "      <td>1.699583</td>\n",
       "      <td>0.015089</td>\n",
       "      <td>0.015089</td>\n",
       "    </tr>\n",
       "  </tbody>\n",
       "</table>\n",
       "</div>"
      ],
      "text/plain": [
       "                    time         low        high        open       close  \\\n",
       "date                                                                       \n",
       "2017-07-31  1.501486e+09  193.695833  195.868333  194.555000  194.580833   \n",
       "2017-08-01  1.501551e+09  204.393750  209.042083  206.008333  206.938750   \n",
       "2017-08-02  1.501637e+09  221.077917  225.050417  223.161250  223.126667   \n",
       "2017-08-03  1.501724e+09  219.288333  221.447917  220.238333  220.490000   \n",
       "2017-08-04  1.501810e+09  222.810417  224.510000  223.856250  223.817083   \n",
       "\n",
       "                  volume  day  day_of_month   returns   abs_ret     range  \\\n",
       "date                                                                        \n",
       "2017-07-31   3335.321224  0.0          31.0 -0.065455  1.192727  2.172500   \n",
       "2017-08-01  14944.681598  1.0           1.0  0.963333  2.353333  4.648333   \n",
       "2017-08-02   9510.176772  2.0           2.0  0.013333  1.783333  3.972500   \n",
       "2017-08-03   5706.392778  3.0           3.0  0.244167  1.113333  2.159583   \n",
       "2017-08-04   4445.109779  4.0           4.0 -0.038750  0.700417  1.699583   \n",
       "\n",
       "                retp    retp_a  \n",
       "date                            \n",
       "2017-07-31       NaN       NaN  \n",
       "2017-08-01  0.063510  0.063510  \n",
       "2017-08-02  0.078226  0.078226  \n",
       "2017-08-03 -0.011817  0.011817  \n",
       "2017-08-04  0.015089  0.015089  "
      ]
     },
     "execution_count": 13,
     "metadata": {},
     "output_type": "execute_result"
    }
   ],
   "source": [
    "df_day = df.groupby('date').mean()\n",
    "df_day['retp'] = df_day['close'].pct_change()\n",
    "df_day['retp_a'] = np.abs(df_day['retp'])\n",
    "df_day.head()"
   ]
  },
  {
   "cell_type": "code",
   "execution_count": null,
   "metadata": {},
   "outputs": [],
   "source": []
  },
  {
   "cell_type": "code",
   "execution_count": 15,
   "metadata": {},
   "outputs": [
    {
     "data": {
      "image/png": "[encoded data removed]",
      "text/plain": [
       "<Figure size 1152x576 with 1 Axes>"
      ]
     },
     "metadata": {
      "needs_background": "light"
     },
     "output_type": "display_data"
    }
   ],
   "source": [
    "plt.figure(figsize=(16,8))\n",
    "df_day['retp_a'].hist(bins=50) \n",
    "plt.vlines([0.05,0.1],0,200)\n",
    "plt.tight_layout()\n",
    "plt.title(\"Absolute percent change distribution\")\n",
    "plt.savefig(\"../../../report/fig/pctc.png\",dpi=250)\n",
    "plt.show() "
   ]
  },
  {
   "cell_type": "code",
   "execution_count": 22,
   "metadata": {},
   "outputs": [
    {
     "data": {
      "text/html": [
       "<div>\n",
       "<style scoped>\n",
       "    .dataframe tbody tr th:only-of-type {\n",
       "        vertical-align: middle;\n",
       "    }\n",
       "\n",
       "    .dataframe tbody tr th {\n",
       "        vertical-align: top;\n",
       "    }\n",
       "\n",
       "    .dataframe thead th {\n",
       "        text-align: right;\n",
       "    }\n",
       "</style>\n",
       "<table border=\"1\" class=\"dataframe\">\n",
       "  <thead>\n",
       "    <tr style=\"text-align: right;\">\n",
       "      <th></th>\n",
       "      <th>time</th>\n",
       "      <th>low</th>\n",
       "      <th>high</th>\n",
       "      <th>open</th>\n",
       "      <th>close</th>\n",
       "      <th>volume</th>\n",
       "      <th>day</th>\n",
       "      <th>day_of_month</th>\n",
       "      <th>returns</th>\n",
       "      <th>abs_ret</th>\n",
       "      <th>range</th>\n",
       "      <th>retp</th>\n",
       "      <th>retp_a</th>\n",
       "    </tr>\n",
       "    <tr>\n",
       "      <th>date</th>\n",
       "      <th></th>\n",
       "      <th></th>\n",
       "      <th></th>\n",
       "      <th></th>\n",
       "      <th></th>\n",
       "      <th></th>\n",
       "      <th></th>\n",
       "      <th></th>\n",
       "      <th></th>\n",
       "      <th></th>\n",
       "      <th></th>\n",
       "      <th></th>\n",
       "      <th></th>\n",
       "    </tr>\n",
       "  </thead>\n",
       "  <tbody>\n",
       "    <tr>\n",
       "      <th>2017-08-06</th>\n",
       "      <td>1.501983e+09</td>\n",
       "      <td>249.330000</td>\n",
       "      <td>254.056250</td>\n",
       "      <td>251.571250</td>\n",
       "      <td>252.197500</td>\n",
       "      <td>12411.739482</td>\n",
       "      <td>6.0</td>\n",
       "      <td>6.0</td>\n",
       "      <td>0.610833</td>\n",
       "      <td>2.694167</td>\n",
       "      <td>4.726250</td>\n",
       "      <td>0.111592</td>\n",
       "      <td>0.111592</td>\n",
       "    </tr>\n",
       "    <tr>\n",
       "      <th>2017-09-15</th>\n",
       "      <td>1.505439e+09</td>\n",
       "      <td>224.170833</td>\n",
       "      <td>235.182917</td>\n",
       "      <td>229.935833</td>\n",
       "      <td>229.427917</td>\n",
       "      <td>26916.817487</td>\n",
       "      <td>4.0</td>\n",
       "      <td>15.0</td>\n",
       "      <td>-0.497500</td>\n",
       "      <td>5.303333</td>\n",
       "      <td>11.012083</td>\n",
       "      <td>-0.144127</td>\n",
       "      <td>0.144127</td>\n",
       "    </tr>\n",
       "    <tr>\n",
       "      <th>2017-09-16</th>\n",
       "      <td>1.505525e+09</td>\n",
       "      <td>256.429583</td>\n",
       "      <td>267.172917</td>\n",
       "      <td>261.159583</td>\n",
       "      <td>262.189167</td>\n",
       "      <td>18353.094221</td>\n",
       "      <td>5.0</td>\n",
       "      <td>16.0</td>\n",
       "      <td>1.056250</td>\n",
       "      <td>5.950417</td>\n",
       "      <td>10.743333</td>\n",
       "      <td>0.142795</td>\n",
       "      <td>0.142795</td>\n",
       "    </tr>\n",
       "    <tr>\n",
       "      <th>2017-09-18</th>\n",
       "      <td>1.505698e+09</td>\n",
       "      <td>272.165833</td>\n",
       "      <td>278.847500</td>\n",
       "      <td>274.311667</td>\n",
       "      <td>276.167083</td>\n",
       "      <td>11257.665828</td>\n",
       "      <td>0.0</td>\n",
       "      <td>18.0</td>\n",
       "      <td>1.898750</td>\n",
       "      <td>3.658750</td>\n",
       "      <td>6.681667</td>\n",
       "      <td>0.100233</td>\n",
       "      <td>0.100233</td>\n",
       "    </tr>\n",
       "    <tr>\n",
       "      <th>2017-11-25</th>\n",
       "      <td>1.511570e+09</td>\n",
       "      <td>456.660000</td>\n",
       "      <td>466.945417</td>\n",
       "      <td>460.958750</td>\n",
       "      <td>462.254583</td>\n",
       "      <td>17198.610403</td>\n",
       "      <td>5.0</td>\n",
       "      <td>25.0</td>\n",
       "      <td>1.273750</td>\n",
       "      <td>5.073750</td>\n",
       "      <td>10.285417</td>\n",
       "      <td>0.116250</td>\n",
       "      <td>0.116250</td>\n",
       "    </tr>\n",
       "  </tbody>\n",
       "</table>\n",
       "</div>"
      ],
      "text/plain": [
       "                    time         low        high        open       close  \\\n",
       "date                                                                       \n",
       "2017-08-06  1.501983e+09  249.330000  254.056250  251.571250  252.197500   \n",
       "2017-09-15  1.505439e+09  224.170833  235.182917  229.935833  229.427917   \n",
       "2017-09-16  1.505525e+09  256.429583  267.172917  261.159583  262.189167   \n",
       "2017-09-18  1.505698e+09  272.165833  278.847500  274.311667  276.167083   \n",
       "2017-11-25  1.511570e+09  456.660000  466.945417  460.958750  462.254583   \n",
       "\n",
       "                  volume  day  day_of_month   returns   abs_ret      range  \\\n",
       "date                                                                         \n",
       "2017-08-06  12411.739482  6.0           6.0  0.610833  2.694167   4.726250   \n",
       "2017-09-15  26916.817487  4.0          15.0 -0.497500  5.303333  11.012083   \n",
       "2017-09-16  18353.094221  5.0          16.0  1.056250  5.950417  10.743333   \n",
       "2017-09-18  11257.665828  0.0          18.0  1.898750  3.658750   6.681667   \n",
       "2017-11-25  17198.610403  5.0          25.0  1.273750  5.073750  10.285417   \n",
       "\n",
       "                retp    retp_a  \n",
       "date                            \n",
       "2017-08-06  0.111592  0.111592  \n",
       "2017-09-15 -0.144127  0.144127  \n",
       "2017-09-16  0.142795  0.142795  \n",
       "2017-09-18  0.100233  0.100233  \n",
       "2017-11-25  0.116250  0.116250  "
      ]
     },
     "execution_count": 22,
     "metadata": {},
     "output_type": "execute_result"
    }
   ],
   "source": [
    "# filter\n",
    "df_day_l5 = df_day[df_day['retp_a'] < 0.05]\n",
    "df_day_5 = df_day[(df_day['retp_a'] > 0.05) & (df_day['retp_a'] < 0.1)]\n",
    "df_day_10 = df_day[df_day['retp_a'] > 0.1]\n",
    "df_day_10.head()"
   ]
  },
  {
   "cell_type": "code",
   "execution_count": 28,
   "metadata": {},
   "outputs": [
    {
     "data": {
      "text/html": [
       "<div>\n",
       "<style scoped>\n",
       "    .dataframe tbody tr th:only-of-type {\n",
       "        vertical-align: middle;\n",
       "    }\n",
       "\n",
       "    .dataframe tbody tr th {\n",
       "        vertical-align: top;\n",
       "    }\n",
       "\n",
       "    .dataframe thead th {\n",
       "        text-align: right;\n",
       "    }\n",
       "</style>\n",
       "<table border=\"1\" class=\"dataframe\">\n",
       "  <thead>\n",
       "    <tr style=\"text-align: right;\">\n",
       "      <th></th>\n",
       "      <th>low</th>\n",
       "      <th>high</th>\n",
       "      <th>open</th>\n",
       "      <th>close</th>\n",
       "      <th>volume</th>\n",
       "      <th>returns</th>\n",
       "    </tr>\n",
       "  </thead>\n",
       "  <tbody>\n",
       "    <tr>\n",
       "      <th>count</th>\n",
       "      <td>160.000000</td>\n",
       "      <td>160.000000</td>\n",
       "      <td>160.000000</td>\n",
       "      <td>160.000000</td>\n",
       "      <td>160.000000</td>\n",
       "      <td>160.000000</td>\n",
       "    </tr>\n",
       "    <tr>\n",
       "      <th>mean</th>\n",
       "      <td>393.254607</td>\n",
       "      <td>401.924226</td>\n",
       "      <td>397.955906</td>\n",
       "      <td>397.938922</td>\n",
       "      <td>10313.270548</td>\n",
       "      <td>-0.014387</td>\n",
       "    </tr>\n",
       "    <tr>\n",
       "      <th>std</th>\n",
       "      <td>298.040808</td>\n",
       "      <td>305.717916</td>\n",
       "      <td>302.348791</td>\n",
       "      <td>302.372059</td>\n",
       "      <td>5178.683033</td>\n",
       "      <td>1.669869</td>\n",
       "    </tr>\n",
       "    <tr>\n",
       "      <th>min</th>\n",
       "      <td>91.986250</td>\n",
       "      <td>93.544167</td>\n",
       "      <td>92.605833</td>\n",
       "      <td>92.745833</td>\n",
       "      <td>2646.986398</td>\n",
       "      <td>-7.903750</td>\n",
       "    </tr>\n",
       "    <tr>\n",
       "      <th>25%</th>\n",
       "      <td>182.481563</td>\n",
       "      <td>185.088958</td>\n",
       "      <td>183.830833</td>\n",
       "      <td>183.794271</td>\n",
       "      <td>6730.351709</td>\n",
       "      <td>-0.531250</td>\n",
       "    </tr>\n",
       "    <tr>\n",
       "      <th>50%</th>\n",
       "      <td>276.966875</td>\n",
       "      <td>282.016250</td>\n",
       "      <td>279.603958</td>\n",
       "      <td>280.097917</td>\n",
       "      <td>9324.437458</td>\n",
       "      <td>0.068333</td>\n",
       "    </tr>\n",
       "    <tr>\n",
       "      <th>75%</th>\n",
       "      <td>522.655104</td>\n",
       "      <td>533.031354</td>\n",
       "      <td>528.920313</td>\n",
       "      <td>527.474896</td>\n",
       "      <td>12478.833113</td>\n",
       "      <td>0.532396</td>\n",
       "    </tr>\n",
       "    <tr>\n",
       "      <th>max</th>\n",
       "      <td>1347.235833</td>\n",
       "      <td>1377.132500</td>\n",
       "      <td>1366.006250</td>\n",
       "      <td>1363.753333</td>\n",
       "      <td>31125.085513</td>\n",
       "      <td>4.875833</td>\n",
       "    </tr>\n",
       "  </tbody>\n",
       "</table>\n",
       "</div>"
      ],
      "text/plain": [
       "               low         high         open        close        volume  \\\n",
       "count   160.000000   160.000000   160.000000   160.000000    160.000000   \n",
       "mean    393.254607   401.924226   397.955906   397.938922  10313.270548   \n",
       "std     298.040808   305.717916   302.348791   302.372059   5178.683033   \n",
       "min      91.986250    93.544167    92.605833    92.745833   2646.986398   \n",
       "25%     182.481563   185.088958   183.830833   183.794271   6730.351709   \n",
       "50%     276.966875   282.016250   279.603958   280.097917   9324.437458   \n",
       "75%     522.655104   533.031354   528.920313   527.474896  12478.833113   \n",
       "max    1347.235833  1377.132500  1366.006250  1363.753333  31125.085513   \n",
       "\n",
       "          returns  \n",
       "count  160.000000  \n",
       "mean    -0.014387  \n",
       "std      1.669869  \n",
       "min     -7.903750  \n",
       "25%     -0.531250  \n",
       "50%      0.068333  \n",
       "75%      0.532396  \n",
       "max      4.875833  "
      ]
     },
     "execution_count": 28,
     "metadata": {},
     "output_type": "execute_result"
    }
   ],
   "source": [
    "df_day_5[['low', 'high', 'open', 'close', 'volume',\n",
    "       'returns']].describe()\n",
    "# print(df_day_5[['low', 'high', 'open', 'close', 'volume',\n",
    "#        'returns']].describe().to_latex())"
   ]
  },
  {
   "cell_type": "code",
   "execution_count": 32,
   "metadata": {},
   "outputs": [
    {
     "name": "stdout",
     "output_type": "stream",
     "text": [
      "\\begin{tabular}{lrr}\n",
      "\\toprule\n",
      "{} &  day\\_of\\_month &  day \\\\\n",
      "\\midrule\n",
      "0 &          23.0 &  3.0 \\\\\n",
      "\\bottomrule\n",
      "\\end{tabular}\n",
      "\n"
     ]
    }
   ],
   "source": [
    "df_day_5[['day_of_month','day']].mode()\n",
    "print(df_day_5[['day_of_month','day']].mode().to_latex())"
   ]
  },
  {
   "cell_type": "code",
   "execution_count": 35,
   "metadata": {},
   "outputs": [
    {
     "name": "stdout",
     "output_type": "stream",
     "text": [
      "\\begin{tabular}{lrrrrrr}\n",
      "\\toprule\n",
      "{} &          low &         high &         open &        close &        volume &    returns \\\\\n",
      "\\midrule\n",
      "count &    41.000000 &    41.000000 &    41.000000 &    41.000000 &     41.000000 &  41.000000 \\\\\n",
      "mean  &   352.536433 &   366.085457 &   359.722541 &   359.313923 &  19272.578006 &  -0.416596 \\\\\n",
      "std   &   282.334042 &   295.841460 &   289.756459 &   288.996099 &  10841.346712 &   3.194639 \\\\\n",
      "min   &    88.517083 &    91.353333 &    90.230417 &    89.629583 &   7716.548928 & -10.818750 \\\\\n",
      "25\\%   &   160.810833 &   164.762500 &   162.386667 &   162.990833 &  11806.177713 &  -1.111250 \\\\\n",
      "50\\%   &   224.170833 &   230.869583 &   228.202083 &   227.710417 &  16902.097708 &   0.010833 \\\\\n",
      "75\\%   &   534.257917 &   547.426667 &   542.708333 &   539.067500 &  22731.665617 &   0.795417 \\\\\n",
      "max   &  1114.007083 &  1144.463750 &  1130.869167 &  1133.618333 &  66780.561746 &   7.758333 \\\\\n",
      "\\bottomrule\n",
      "\\end{tabular}\n",
      "\n"
     ]
    }
   ],
   "source": [
    "# 10 percent or greater\n",
    "\n",
    "df_day_10[['low', 'high', 'open', 'close', 'volume',\n",
    "       'returns']].describe()\n",
    "print(df_day_10[['low', 'high', 'open', 'close', 'volume',\n",
    "       'returns']].describe().to_latex())"
   ]
  },
  {
   "cell_type": "code",
   "execution_count": 36,
   "metadata": {},
   "outputs": [
    {
     "name": "stdout",
     "output_type": "stream",
     "text": [
      "\\begin{tabular}{lrr}\n",
      "\\toprule\n",
      "{} &  day\\_of\\_month &  day \\\\\n",
      "\\midrule\n",
      "0 &          15.0 &  4.0 \\\\\n",
      "\\bottomrule\n",
      "\\end{tabular}\n",
      "\n"
     ]
    }
   ],
   "source": [
    "df_day_10[['day_of_month','day']].mode()\n",
    "print(df_day_10[['day_of_month','day']].mode().to_latex())"
   ]
  },
  {
   "cell_type": "code",
   "execution_count": 37,
   "metadata": {},
   "outputs": [
    {
     "name": "stdout",
     "output_type": "stream",
     "text": [
      "\\begin{tabular}{lrrrrrr}\n",
      "\\toprule\n",
      "{} &          low &         high &         open &        close &        volume &     returns \\\\\n",
      "\\midrule\n",
      "count &   899.000000 &   899.000000 &   899.000000 &   899.000000 &    899.000000 &  899.000000 \\\\\n",
      "mean  &   293.647002 &   297.290324 &   295.549123 &   295.579857 &   4807.769736 &    0.031466 \\\\\n",
      "std   &   201.763226 &   205.377567 &   203.713711 &   203.762793 &   3447.003381 &    0.687126 \\\\\n",
      "min   &    82.847917 &    83.723750 &    83.414583 &    83.293333 &    725.863348 &   -5.000417 \\\\\n",
      "25\\%   &   168.759792 &   170.563542 &   169.801250 &   169.625000 &   2586.147062 &   -0.144891 \\\\\n",
      "50\\%   &   223.373750 &   225.083333 &   224.404167 &   224.436667 &   3916.392366 &    0.011250 \\\\\n",
      "75\\%   &   317.486875 &   321.048750 &   319.219583 &   319.338333 &   5954.465718 &    0.198125 \\\\\n",
      "max   &  1311.549583 &  1339.132500 &  1328.027500 &  1329.035833 &  32320.300813 &    6.276250 \\\\\n",
      "\\bottomrule\n",
      "\\end{tabular}\n",
      "\n"
     ]
    }
   ],
   "source": [
    "# <5  percent or greater\n",
    "\n",
    "df_day_l5[['low', 'high', 'open', 'close', 'volume',\n",
    "       'returns']].describe()\n",
    "print(df_day_l5[['low', 'high', 'open', 'close', 'volume',\n",
    "       'returns']].describe().to_latex())"
   ]
  },
  {
   "cell_type": "code",
   "execution_count": 38,
   "metadata": {},
   "outputs": [
    {
     "name": "stdout",
     "output_type": "stream",
     "text": [
      "\\begin{tabular}{lrr}\n",
      "\\toprule\n",
      "{} &  day\\_of\\_month &  day \\\\\n",
      "\\midrule\n",
      "0 &           4.0 &  6.0 \\\\\n",
      "\\bottomrule\n",
      "\\end{tabular}\n",
      "\n"
     ]
    }
   ],
   "source": [
    "df_day_l5[['day_of_month','day']].mode()\n",
    "print(df_day_l5[['day_of_month','day']].mode().to_latex())"
   ]
  },
  {
   "cell_type": "code",
   "execution_count": 39,
   "metadata": {},
   "outputs": [],
   "source": [
    "# stationary\n",
    "\n",
    "from statsmodels.tsa.stattools import adfuller"
   ]
  },
  {
   "cell_type": "code",
   "execution_count": 70,
   "metadata": {},
   "outputs": [
    {
     "name": "stdout",
     "output_type": "stream",
     "text": [
      "p value for hourly close 0.37742176859100934 likely not stationary\n",
      "p value for hourly returns 0.0 likely stationary\n",
      "p value for hourly this year close 0.9879970913768994 likely not stationary\n",
      "p value for hourly close from aug 1 0.4431708128652189 likely not stationary\n"
     ]
    }
   ],
   "source": [
    "res = adfuller(df[\"close\"].dropna(axis=0))\n",
    "if res[1] > 0.05:\n",
    "    print(f\"p value for hourly close {res[1]} likely not stationary\")\n",
    "else:\n",
    "    print(f\"p value for hourly close {res[1]} likely stationary\")\n",
    "    \n",
    "res = adfuller(df[\"returns\"].dropna(axis=0))\n",
    "if res[1] > 0.05:\n",
    "    print(f\"p value for hourly returns {res[1]} likely not stationary\")\n",
    "else:\n",
    "    print(f\"p value for hourly returns {res[1]} likely stationary\")\n",
    "\n",
    "res = adfuller(df[df.index > datetime(2020,1,1)][\"close\"])\n",
    "if res[1] > 0.05:\n",
    "    print(f\"p value for hourly this year close {res[1]} likely not stationary\")\n",
    "else:\n",
    "    print(f\"p value for hourly this year close {res[1]} likely stationary\")\n",
    "    \n",
    "res = adfuller(df[df.index > datetime(2020,8,1)][\"close\"])\n",
    "if res[1] > 0.05:\n",
    "    print(f\"p value for hourly close from aug 1 {res[1]} likely not stationary\")\n",
    "else:\n",
    "    print(f\"p value for hourly close from aug 1 {res[1]} likely stationary\")"
   ]
  },
  {
   "cell_type": "code",
   "execution_count": 62,
   "metadata": {},
   "outputs": [
    {
     "name": "stdout",
     "output_type": "stream",
     "text": [
      "p value for hourly returns 0.0 likely stationary\n"
     ]
    }
   ],
   "source": [
    "res = adfuller(df[\"returns\"].dropna(axis=0))\n",
    "if res[1] > 0.05:\n",
    "    print(f\"p value for hourly returns {res[1]} likely not stationary\")\n",
    "else:\n",
    "    print(f\"p value for hourly returns {res[1]} likely stationary\")"
   ]
  },
  {
   "cell_type": "code",
   "execution_count": 68,
   "metadata": {},
   "outputs": [
    {
     "name": "stdout",
     "output_type": "stream",
     "text": [
      "p value for hourly this year close 0.9879970913768994 likely not stationary\n"
     ]
    }
   ],
   "source": [
    "res = adfuller(df[df.index > datetime(2020,1,1)][\"close\"])\n",
    "if res[1] > 0.05:\n",
    "    print(f\"p value for hourly this year close {res[1]} likely not stationary\")\n",
    "else:\n",
    "    print(f\"p value for hourly this year close {res[1]} likely stationary\")"
   ]
  },
  {
   "cell_type": "code",
   "execution_count": 69,
   "metadata": {},
   "outputs": [
    {
     "name": "stdout",
     "output_type": "stream",
     "text": [
      "p value for hourly close from aug 1 0.4431708128652189 likely not stationary\n"
     ]
    }
   ],
   "source": [
    "res = adfuller(df[df.index > datetime(2020,8,1)][\"close\"])\n",
    "if res[1] > 0.05:\n",
    "    print(f\"p value for hourly close from aug 1 {res[1]} likely not stationary\")\n",
    "else:\n",
    "    print(f\"p value for hourly close from aug 1 {res[1]} likely stationary\")"
   ]
  },
  {
   "cell_type": "code",
   "execution_count": 75,
   "metadata": {},
   "outputs": [],
   "source": [
    "# POC \n",
    "\n",
    "dates = df.groupby(\"date\").mean().index\n",
    "list_by_date = []\n",
    "for i in range(len(dates)):\n",
    "    list_by_date.append(df[df[\"date\"] == dates[i]])"
   ]
  },
  {
   "cell_type": "code",
   "execution_count": 107,
   "metadata": {},
   "outputs": [
    {
     "data": {
      "text/plain": [
       "array([191.602 , 214.4375, 225.78  , ..., 374.5445, 384.911 , 394.576 ])"
      ]
     },
     "execution_count": 107,
     "metadata": {},
     "output_type": "execute_result"
    }
   ],
   "source": [
    "POC = np.zeros(len(list_by_date))\n",
    "for i in range(len(list_by_date)):\n",
    "    a,b = np.histogram(list_by_date[i][\"close\"],weights=list_by_date[i][\"volume\"])\n",
    "    idx = a.argmax()\n",
    "    POC[i] = (b[idx] + b[idx+1])/2\n",
    "POC"
   ]
  },
  {
   "cell_type": "code",
   "execution_count": 115,
   "metadata": {},
   "outputs": [],
   "source": [
    "n_poc_cross = 0\n",
    "for i in range(1,len(POC)):\n",
    "    if (list_by_date[i]['low'].min() < POC[i-1]) & (POC[i-1] < list_by_date[i]['high'].max()):\n",
    "        n_poc_cross += 1 "
   ]
  },
  {
   "cell_type": "code",
   "execution_count": 118,
   "metadata": {},
   "outputs": [
    {
     "name": "stdout",
     "output_type": "stream",
     "text": [
      "68.9108910891089% of the time price comes back to the POC the next trading day\n"
     ]
    }
   ],
   "source": [
    "print(f\"{n_poc_cross/1010*100}% of the time price comes back to the POC the next trading day\")"
   ]
  },
  {
   "cell_type": "code",
   "execution_count": null,
   "metadata": {},
   "outputs": [],
   "source": [
    "\n"
   ]
  },
  {
   "cell_type": "code",
   "execution_count": null,
   "metadata": {},
   "outputs": [],
   "source": []
  },
  {
   "cell_type": "code",
   "execution_count": null,
   "metadata": {},
   "outputs": [],
   "source": []
  },
  {
   "cell_type": "code",
   "execution_count": null,
   "metadata": {},
   "outputs": [],
   "source": []
  },
  {
   "cell_type": "code",
   "execution_count": null,
   "metadata": {},
   "outputs": [],
   "source": []
  }
 ],
 "metadata": {
  "kernelspec": {
   "display_name": "Python 3",
   "language": "python",
   "name": "python3"
  },
  "language_info": {
   "codemirror_mode": {
    "name": "ipython",
    "version": 3
   },
   "file_extension": ".py",
   "mimetype": "text/x-python",
   "name": "python",
   "nbconvert_exporter": "python",
   "pygments_lexer": "ipython3",
   "version": "3.7.9"
  }
 },
 "nbformat": 4,
 "nbformat_minor": 2
}
