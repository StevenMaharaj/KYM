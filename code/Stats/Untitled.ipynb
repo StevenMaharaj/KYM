{
 "cells": [
  {
   "cell_type": "code",
   "execution_count": 19,
   "metadata": {},
   "outputs": [],
   "source": [
    "import pandas as pd\n",
    "import json\n",
    "from datetime import datetime, timedelta\n",
    "import numpy as np\n",
    "\n",
    "\n",
    "import asyncio\n",
    "import websockets\n",
    "import json"
   ]
  },
  {
   "cell_type": "code",
   "execution_count": 14,
   "metadata": {},
   "outputs": [
    {
     "name": "stdout",
     "output_type": "stream",
     "text": [
      "The current time 2020-09-03 15:02:36.805023\n",
      "The 3 years ago  2017-09-04 15:02:36.805023\n",
      "_________________________________\n",
      "The current time time stamp (ms) 1599109356805.023\n",
      "The 3 years ago time stamp (ms)  1504501356805.023\n"
     ]
    }
   ],
   "source": [
    "# timestamps 3 years back\n",
    "\n",
    "now = datetime.now()\n",
    "\n",
    "now_take_3 = now - timedelta(days=3*365)\n",
    "now_timestamp = datetime.timestamp(now)*1000\n",
    "now_take_3_timestamp = datetime.timestamp(now_take_3)*1000\n",
    "\n",
    "print(f\"The current time {now}\")\n",
    "print(f\"The 3 years ago  {now_take_3}\")\n",
    "print(\"_________________________________\")\n",
    "print(f\"The current time time stamp (ms) {now_timestamp}\")\n",
    "print(f\"The 3 years ago time stamp (ms)  {now_take_3_timestamp}\")"
   ]
  },
  {
   "cell_type": "code",
   "execution_count": 47,
   "metadata": {},
   "outputs": [
    {
     "data": {
      "text/plain": [
       "<Task pending coro=<call_api() running at <ipython-input-47-a7b1b27de0fa>:15>>"
      ]
     },
     "execution_count": 47,
     "metadata": {},
     "output_type": "execute_result"
    }
   ],
   "source": [
    "\n",
    "msg = \\\n",
    "{\n",
    "  \"jsonrpc\" : \"2.0\",\n",
    "  \"id\" : 833,\n",
    "  \"method\" : \"public/get_tradingview_chart_data\",\n",
    "  \"params\" : {\n",
    "    \"instrument_name\" : \"ETH-PERPETUAL\",\n",
    "    \"start_timestamp\" : int(now_take_3_timestamp),\n",
    "    \"end_timestamp\" : int(now_timestamp),\n",
    "    \"resolution\" : \"1D\"\n",
    "  }\n",
    "}\n",
    "\n",
    "async def call_api(msg):\n",
    "   async with websockets.connect('wss://test.deribit.com/ws/api/v2') as websocket:\n",
    "       await websocket.send(msg)\n",
    "       while websocket.open:\n",
    "           response = await websocket.recv()\n",
    "           # do something with the response...\n",
    "           return response\n",
    "\n",
    "loop =  asyncio.get_event_loop()\n",
    "loop.create_task(call_api(json.dumps(msg)))"
   ]
  },
  {
   "cell_type": "code",
   "execution_count": 48,
   "metadata": {},
   "outputs": [
    {
     "ename": "TypeError",
     "evalue": "run() missing 1 required positional argument: 'main'",
     "output_type": "error",
     "traceback": [
      "\u001b[0;31m---------------------------------------------------------------------------\u001b[0m",
      "\u001b[0;31mTypeError\u001b[0m                                 Traceback (most recent call last)",
      "\u001b[0;32m<ipython-input-48-29f4a744d955>\u001b[0m in \u001b[0;36m<module>\u001b[0;34m\u001b[0m\n\u001b[0;32m----> 1\u001b[0;31m \u001b[0masyncio\u001b[0m\u001b[0;34m.\u001b[0m\u001b[0mrun\u001b[0m\u001b[0;34m(\u001b[0m\u001b[0;34m)\u001b[0m\u001b[0;34m\u001b[0m\u001b[0;34m\u001b[0m\u001b[0m\n\u001b[0m",
      "\u001b[0;31mTypeError\u001b[0m: run() missing 1 required positional argument: 'main'"
     ]
    }
   ],
   "source": [
    "asyncio.run()"
   ]
  },
  {
   "cell_type": "code",
   "execution_count": null,
   "metadata": {},
   "outputs": [],
   "source": []
  }
 ],
 "metadata": {
  "kernelspec": {
   "display_name": "Python 3",
   "language": "python",
   "name": "python3"
  },
  "language_info": {
   "codemirror_mode": {
    "name": "ipython",
    "version": 3
   },
   "file_extension": ".py",
   "mimetype": "text/x-python",
   "name": "python",
   "nbconvert_exporter": "python",
   "pygments_lexer": "ipython3",
   "version": "3.7.3"
  }
 },
 "nbformat": 4,
 "nbformat_minor": 2
}
