{
 "cells": [
  {
   "cell_type": "code",
   "execution_count": 1,
   "metadata": {},
   "outputs": [],
   "source": [
    "import numpy as np\n",
    "import pandas as pd\n",
    "import seaborn as sns\n",
    "import requests\n",
    "import json"
   ]
  },
  {
   "cell_type": "code",
   "execution_count": 2,
   "metadata": {},
   "outputs": [],
   "source": [
    "accountBTC = 9.9998\n",
    "pos_sizeUSD = 100000\n",
    "current_price = 11244.00\n",
    "pos_size_btc = pos_sizeUSD/current_price"
   ]
  },
  {
   "cell_type": "code",
   "execution_count": 4,
   "metadata": {},
   "outputs": [],
   "source": [
    "def mm_pct(pos_size_btc):\n",
    "    return (0.525 + pos_size_btc*0.005)\n",
    "\n",
    "def im_pct(pos_size_btc):\n",
    "    return (1.0 + (pos_size_btc)*0.005)"
   ]
  },
  {
   "cell_type": "code",
   "execution_count": 5,
   "metadata": {},
   "outputs": [
    {
     "name": "stdout",
     "output_type": "stream",
     "text": [
      "position in BTC 8.893632159373889\n",
      "im: 0.09289115624305136\n",
      "mm: 0.050646403486025386\n"
     ]
    }
   ],
   "source": [
    "print(f'position in BTC {pos_size_btc}')\n",
    "print(f'im: {im_pct(pos_size_btc)*pos_size_btc/100}')\n",
    "print(f'mm: {mm_pct(pos_size_btc)*pos_size_btc/100}')"
   ]
  },
  {
   "cell_type": "code",
   "execution_count": 7,
   "metadata": {},
   "outputs": [
    {
     "data": {
      "text/plain": [
       "0.09511456428289483"
      ]
     },
     "execution_count": 7,
     "metadata": {},
     "output_type": "execute_result"
    }
   ],
   "source": [
    "# this is what shows on the inital buy margin on Deribit\n",
    "0.09289115624305136 + 0.5*(pos_size_btc*0.05/100)"
   ]
  },
  {
   "cell_type": "code",
   "execution_count": null,
   "metadata": {},
   "outputs": [],
   "source": []
  }
 ],
 "metadata": {
  "kernelspec": {
   "display_name": "Python 3",
   "language": "python",
   "name": "python3"
  },
  "language_info": {
   "codemirror_mode": {
    "name": "ipython",
    "version": 3
   },
   "file_extension": ".py",
   "mimetype": "text/x-python",
   "name": "python",
   "nbconvert_exporter": "python",
   "pygments_lexer": "ipython3",
   "version": "3.7.9"
  }
 },
 "nbformat": 4,
 "nbformat_minor": 2
}
